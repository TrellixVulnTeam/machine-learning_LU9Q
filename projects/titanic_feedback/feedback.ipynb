{
 "cells": [
  {
   "cell_type": "code",
   "execution_count": null,
   "metadata": {
    "collapsed": true
   },
   "outputs": [],
   "source": [
    "import pandas\n",
    "## Load Data\n",
    "data = pandas.read_csv('titanic_data.csv', sep=',')\n",
    "\n",
    "## Define outcome, drop non used features and generate a binary variable for Sex:\n",
    "outcomes = data['Survived']\n",
    "data = data.drop(['Survived','Name','Ticket','Cabin','Embarked','PassengerId'], axis = 1)\n",
    "data['Sex'] = data['Sex'].apply(lambda x: 1. if x == 'female' else 0.)\n",
    "\n",
    "## Split the data into train/test sets: (train data is used to make the model learn from data and test data is used to estimate how well model generalized)\n",
    "from sklearn.cross_validation import StratifiedShuffleSplit\n",
    "sss = StratifiedShuffleSplit(outcomes, 1, test_size=0.3, random_state=450)\n",
    "for train_index, test_index in sss:\n",
    "    X_train = data.iloc[train_index]\n",
    "    y_train = outcomes.iloc[train_index]\n",
    "    X_test = data.iloc[test_index]\n",
    "    y_test = outcomes.iloc[test_index]\n",
    "\n",
    "## Define Decision Tree to use: (give it a try and change parameters to see the different trees built)\n",
    "from sklearn import tree\n",
    "clf = tree.DecisionTreeClassifier(max_features=3,max_depth=2)\n",
    "\n",
    "## Use train data to train the model:\n",
    "clf = clf.fit(X_train, y_train)\n",
    "\n",
    "# Generate predictions over test set:\n",
    "predictions = clf.predict(X_test)\n",
    "\n",
    "# Accuracy results over test set:\n",
    "from sklearn.metrics import accuracy_score\n",
    "print \"Accuracy Score:\", accuracy_score(y_test, predictions)\n",
    "\n",
    "## Represent Generated Tree:\n",
    "from sklearn.externals.six import StringIO\n",
    "from IPython.display import Image\n",
    "import pydot \n",
    "print data.columns\n",
    "dot_data = StringIO() \n",
    "tree.export_graphviz(clf, out_file=dot_data,  \n",
    "                         feature_names=data.columns,\n",
    "                         class_names=['Perished','Survived'], \n",
    "                         filled=True, rounded=True,\n",
    "                         proportion = True,\n",
    "                         special_characters=True)  \n",
    "graph = pydot.graph_from_dot_data(dot_data.getvalue())  \n",
    "Image(graph.create_png())"
   ]
  }
 ],
 "metadata": {
  "kernelspec": {
   "display_name": "Python 2",
   "language": "python",
   "name": "python2"
  },
  "language_info": {
   "codemirror_mode": {
    "name": "ipython",
    "version": 2.0
   },
   "file_extension": ".py",
   "mimetype": "text/x-python",
   "name": "python",
   "nbconvert_exporter": "python",
   "pygments_lexer": "ipython2",
   "version": "2.7.6"
  }
 },
 "nbformat": 4,
 "nbformat_minor": 0
}